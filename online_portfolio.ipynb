{
 "cells": [
  {
   "cell_type": "code",
   "execution_count": 751,
   "metadata": {
    "collapsed": true
   },
   "outputs": [],
   "source": [
    "import os\n",
    "import numpy as np\n",
    "import pandas as pd\n",
    "import cvxpy as cp\n",
    "import matplotlib.pyplot as plt\n",
    "from scipy.io import loadmat\n",
    "from tqdm import tqdm_notebook as tqdm"
   ]
  },
  {
   "cell_type": "code",
   "execution_count": 734,
   "metadata": {},
   "outputs": [],
   "source": [
    "# handle data\n",
    "csv_files = os.listdir('./dow30_dfs/')\n",
    "djia_df = pd.DataFrame()\n",
    "for csv_file in csv_files:\n",
    "    file_names = csv_file.split('.')\n",
    "    if file_names[-1] != 'csv':\n",
    "        continue\n",
    "    company_name = file_names[0]\n",
    "    df = pd.read_csv('./dow30_dfs/{}'.format(csv_file))\n",
    "    rate_df = (df[-1000:-495]['Close'].astype('float').pct_change() + 1)[1:]\n",
    "    djia_df[company_name] = pd.Series(rate_df.values)\n",
    "djia_df.to_csv('djia_20131217_20151217.csv', index=False)"
   ]
  },
  {
   "cell_type": "code",
   "execution_count": 735,
   "metadata": {
    "scrolled": true
   },
   "outputs": [],
   "source": [
    "# load data\n",
    "djia_df = pd.read_csv('djia_20131217_20151217.csv')\n",
    "djia_arr = djia_df.values"
   ]
  },
  {
   "cell_type": "code",
   "execution_count": 676,
   "metadata": {},
   "outputs": [],
   "source": [
    "# load data\n",
    "data = loadmat('./OLPS-master/Data/djia.mat')\n",
    "data = np.array(data['data'])"
   ]
  },
  {
   "cell_type": "code",
   "execution_count": 736,
   "metadata": {},
   "outputs": [
    {
     "data": {
      "text/plain": [
       "(507, 30)"
      ]
     },
     "execution_count": 736,
     "metadata": {},
     "output_type": "execute_result"
    }
   ],
   "source": [
    "data.shape"
   ]
  },
  {
   "cell_type": "code",
   "execution_count": 690,
   "metadata": {},
   "outputs": [
    {
     "data": {
      "text/plain": [
       "(504, 30)"
      ]
     },
     "execution_count": 690,
     "metadata": {},
     "output_type": "execute_result"
    }
   ],
   "source": [
    "djia_arr.shape"
   ]
  },
  {
   "cell_type": "code",
   "execution_count": 658,
   "metadata": {
    "collapsed": true
   },
   "outputs": [],
   "source": [
    "# w, x are numpy array, shape: (m, )\n",
    "def f(w, x):\n",
    "    return - np.log(np.dot(w, x))\n",
    "    \n",
    "def grad(w, x):\n",
    "    return - x / np.dot(w, x)\n",
    "\n",
    "# reference https://arxiv.org/pdf/1101.6081.pdf\n",
    "def proj_simplex(y):\n",
    "    n = y.shape[0]\n",
    "    x = cp.Variable(n)\n",
    "    objective = cp.Minimize(cp.sum_squares(x - y))\n",
    "    constraints = [x >= 0, cp.sum(x) == 1]\n",
    "    prob = cp.Problem(objective, constraints)\n",
    "    prob.solve()\n",
    "    return x.value\n",
    "\n",
    "# projection operation needed in online newton method\n",
    "def proj_netwon(A, y):\n",
    "    n = A.shape[0]\n",
    "    x = cp.Variable(n)\n",
    "    objective = cp.Minimize(cp.quad_form(x - y, A))\n",
    "    constraints = [x >= 0, cp.sum(x) == 1]\n",
    "    prob = cp.Problem(objective, constraints)\n",
    "    prob.solve()\n",
    "    return x.value"
   ]
  },
  {
   "cell_type": "code",
   "execution_count": 687,
   "metadata": {
    "collapsed": true
   },
   "outputs": [],
   "source": [
    "def best_hindsight(data):\n",
    "    n, m = data.shape\n",
    "    f_values = []\n",
    "    w_opts = []\n",
    "    for i in tqdm(range(n)):\n",
    "        w = cp.Variable(m)\n",
    "        objective = cp.Maximize(cp.sum(cp.log(data[:i + 1, ] @ w)))\n",
    "        constraints = [cp.sum(w) == 1, w >= 0]\n",
    "        prob = cp.Problem(objective, constraints)\n",
    "        prob.solve(solver='SCS')\n",
    "        w_opts.append(w.value)\n",
    "        f_values.append(prob.value)\n",
    "    return w_opts, f_values"
   ]
  },
  {
   "cell_type": "code",
   "execution_count": 660,
   "metadata": {
    "collapsed": true
   },
   "outputs": [],
   "source": [
    "# online gradient descent\n",
    "def online_gradient_descent(data, eta):\n",
    "    n, m = data.shape\n",
    "    w_i = np.ones(m) / m\n",
    "    f_values = []\n",
    "    for i in tqdm(range(n)):\n",
    "        x_i = data[i, :]\n",
    "        f_i = f(w_i, x_i)\n",
    "        f_values.append(f_i)\n",
    "        # updata w_i\n",
    "        grad_i = grad(w_i, x_i)\n",
    "        w_i = proj_simplex(w_i - eta * grad_i)\n",
    "    return f_values"
   ]
  },
  {
   "cell_type": "code",
   "execution_count": 661,
   "metadata": {
    "collapsed": true
   },
   "outputs": [],
   "source": [
    "# normalized exponentiated gradient\n",
    "def normalized_EG(data, eta):\n",
    "    n, m = data.shape\n",
    "    w_i = np.ones(m) / m\n",
    "    f_values = []\n",
    "    for i in tqdm(range(n)):\n",
    "        x_i = data[i, :]\n",
    "        f_i = f(w_i, x_i)\n",
    "        f_values.append(f_i)\n",
    "        # update w_i\n",
    "        grad_i = grad(w_i, x_i)\n",
    "        w_i = w_i * np.exp(-eta * grad_i)\n",
    "        w_i = w_i / np.sum(w_i)\n",
    "    return f_values"
   ]
  },
  {
   "cell_type": "code",
   "execution_count": 662,
   "metadata": {
    "collapsed": true
   },
   "outputs": [],
   "source": [
    "# online newton step\n",
    "def online_newton(data, eta, epsilon):\n",
    "    n, m = data.shape\n",
    "    w_i = np.ones(m) / m\n",
    "    f_values = []\n",
    "    A_i_inv = (1 / epsilon) * np.eye(m)\n",
    "    A_i = epsilon * np.eye(m)\n",
    "    for i in tqdm(range(n)):\n",
    "        x_i = data[i, :]\n",
    "        f_i = f(w_i, x_i)\n",
    "        f_values.append(f_i)\n",
    "        # update w_i\n",
    "        grad_i = grad(w_i, x_i)\n",
    "        hess_i = np.outer(grad_i, grad_i)\n",
    "        A_i += hess_i\n",
    "        A_i_inv -= A_i_inv.dot(hess_i).dot(A_i_inv) / (1 + grad_i.dot(A_i_inv).dot(grad_i))\n",
    "        w_i = proj_netwon(A_i, w_i - eta * A_i_inv.dot(grad_i))\n",
    "    return f_values"
   ]
  },
  {
   "cell_type": "code",
   "execution_count": 663,
   "metadata": {
    "collapsed": true
   },
   "outputs": [],
   "source": [
    "def online_newton2(data, eta, beta, delta):\n",
    "    n, m = data.shape\n",
    "    w_i = np.ones(m) / m\n",
    "    f_values = []\n",
    "    A_i_inv = np.eye(m)\n",
    "    A_i = np.eye(m)\n",
    "    cum_grad = np.zeros(m)\n",
    "    cum_hess = np.zeros((m, m))\n",
    "    for i in tqdm(range(n)):\n",
    "        x_i = data[i, :]\n",
    "        f_i = f(w_i, x_i)\n",
    "        f_values.append(f_i)\n",
    "        # update w\n",
    "        grad_i = grad(w_i, x_i)\n",
    "        hess_i = np.outer(grad_i, grad_i)\n",
    "        cum_grad += grad_i\n",
    "        cum_hess += hess_i\n",
    "        A_i += hess_i\n",
    "        A_i_inv -= A_i_inv.dot(hess_i).dot(A_i_inv) / (1 + grad_i.dot(A_i_inv).dot(grad_i))\n",
    "        b_i = (1 + 1/beta) * cum_grad\n",
    "        w_i = proj_netwon(A_i, delta * A_i_inv.dot(b_i))\n",
    "        w_i = (1 - eta) * w_i + (eta / m) * np.ones(m) \n",
    "    return f_values"
   ]
  },
  {
   "cell_type": "code",
   "execution_count": 756,
   "metadata": {},
   "outputs": [
    {
     "data": {
      "application/vnd.jupyter.widget-view+json": {
       "model_id": "06eccdd981014d838f264b90c8145db2",
       "version_major": 2,
       "version_minor": 0
      },
      "text/plain": [
       "A Jupyter Widget"
      ]
     },
     "metadata": {},
     "output_type": "display_data"
    },
    {
     "name": "stdout",
     "output_type": "stream",
     "text": [
      "\n"
     ]
    }
   ],
   "source": [
    "f_values_ons = online_newton2(data=djia_arr, eta=0, beta=0.125, delta = 1)\n",
    "f_values_ons = np.cumsum(-np.array(f_values_ons))\n",
    "f_values_ons = np.exp(f_values_ons)"
   ]
  },
  {
   "cell_type": "code",
   "execution_count": 768,
   "metadata": {},
   "outputs": [
    {
     "data": {
      "application/vnd.jupyter.widget-view+json": {
       "model_id": "4ad98e14c9d34ed5afba7b2657a5c265",
       "version_major": 2,
       "version_minor": 0
      },
      "text/plain": [
       "A Jupyter Widget"
      ]
     },
     "metadata": {},
     "output_type": "display_data"
    },
    {
     "name": "stdout",
     "output_type": "stream",
     "text": [
      "\n"
     ]
    }
   ],
   "source": [
    "f_values_eg = normalized_EG(data=djia_arr, eta=0.5)\n",
    "f_values_eg = np.cumsum(-np.array(f_values_eg))\n",
    "f_values_eg = np.exp(f_values_eg)"
   ]
  },
  {
   "cell_type": "code",
   "execution_count": 767,
   "metadata": {},
   "outputs": [
    {
     "data": {
      "application/vnd.jupyter.widget-view+json": {
       "model_id": "9cf9f91bc71f4797a0c2dc1743b8fc60",
       "version_major": 2,
       "version_minor": 0
      },
      "text/plain": [
       "A Jupyter Widget"
      ]
     },
     "metadata": {},
     "output_type": "display_data"
    },
    {
     "name": "stdout",
     "output_type": "stream",
     "text": [
      "\n"
     ]
    }
   ],
   "source": [
    "f_values_ogd = online_gradient_descent(data=djia_arr, eta=0.5)\n",
    "f_values_ogd = np.cumsum(-np.array(f_values_ogd))\n",
    "f_values_ogd = np.exp(f_values_ogd)"
   ]
  },
  {
   "cell_type": "code",
   "execution_count": 755,
   "metadata": {},
   "outputs": [
    {
     "data": {
      "application/vnd.jupyter.widget-view+json": {
       "model_id": "d001e01c912441b9ba3252e2c70ccbb3",
       "version_major": 2,
       "version_minor": 0
      },
      "text/plain": [
       "A Jupyter Widget"
      ]
     },
     "metadata": {},
     "output_type": "display_data"
    },
    {
     "name": "stdout",
     "output_type": "stream",
     "text": [
      "\n"
     ]
    }
   ],
   "source": [
    "_, f_values_best = best_hindsight(data=djia_arr)\n",
    "f_values_best = np.exp(f_values_best)"
   ]
  },
  {
   "cell_type": "code",
   "execution_count": 779,
   "metadata": {},
   "outputs": [
    {
     "data": {
      "image/png": "[encoded data removed]",
      "text/plain": [
       "<matplotlib.figure.Figure at 0x1a2626b860>"
      ]
     },
     "metadata": {},
     "output_type": "display_data"
    }
   ],
   "source": [
    "plt.plot(f_values_ons, color='green', label='online newton step')\n",
    "plt.plot(f_values_best, color='red', label='best hindsight')\n",
    "plt.plot(f_values_eg,  color='skyblue', label='normalized exponential gradient')\n",
    "plt.plot(f_values_ogd, color='blue', label='ogd')\n",
    "# plt.plot(np.cumprod(np.sum(djia_arr, axis=1) / 30), color='gray', label='market change')\n",
    "\n",
    "plt.legend() # 显示图例\n",
    "\n",
    "plt.xlabel('iteration')\n",
    "plt.ylabel('cumulative return')\n",
    "plt.show()"
   ]
  },
  {
   "cell_type": "code",
   "execution_count": null,
   "metadata": {
    "collapsed": true
   },
   "outputs": [],
   "source": []
  }
 ],
 "metadata": {
  "kernelspec": {
   "display_name": "Python 3",
   "language": "python",
   "name": "python3"
  },
  "language_info": {
   "codemirror_mode": {
    "name": "ipython",
    "version": 3
   },
   "file_extension": ".py",
   "mimetype": "text/x-python",
   "name": "python",
   "nbconvert_exporter": "python",
   "pygments_lexer": "ipython3",
   "version": "3.6.8"
  }
 },
 "nbformat": 4,
 "nbformat_minor": 2
}
